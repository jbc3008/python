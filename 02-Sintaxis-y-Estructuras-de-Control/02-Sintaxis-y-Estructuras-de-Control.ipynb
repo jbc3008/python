{
 "metadata": {
  "language_info": {
   "codemirror_mode": {
    "name": "ipython",
    "version": 3
   },
   "file_extension": ".py",
   "mimetype": "text/x-python",
   "name": "python",
   "nbconvert_exporter": "python",
   "pygments_lexer": "ipython3",
   "version": "3.9.4"
  },
  "orig_nbformat": 2,
  "kernelspec": {
   "name": "python394jvsc74a57bd099895b1fb5777b62bbca485c28947babc49174d82e5a9d257e359cdc2b435eee",
   "display_name": "Python 3.9.4 64-bit"
  },
  "metadata": {
   "interpreter": {
    "hash": "99895b1fb5777b62bbca485c28947babc49174d82e5a9d257e359cdc2b435eee"
   }
  }
 },
 "nbformat": 4,
 "nbformat_minor": 2,
 "cells": [
  {
   "source": [
    "#Declaramos tres variables y asignamos un valor inicial\n",
    "numero = 10\n",
    "Numero = 20\n",
    "saludo = \"Hola Mundo !!!\"\n",
    "\n",
    "#Mostramos el contenido de las variables por pantalla\n",
    "print(numero)\n",
    "print(Numero)   #Diferencía entre mayúsculas y minúsculas\n",
    "print(\"Saludo: \" + saludo)\n",
    "print(\"\")\n",
    "\n",
    "#Mostramos el tipo de las variables por pantalla\n",
    "print(type(numero))\n",
    "print(type(saludo))\n",
    "print(\"\")"
   ],
   "cell_type": "code",
   "metadata": {},
   "execution_count": null,
   "outputs": []
  },
  {
   "cell_type": "code",
   "execution_count": null,
   "metadata": {},
   "outputs": [],
   "source": [
    "#Cambie b por a. Intento 1. Forma incorrecta.\n",
    "a=5\n",
    "b=10\n",
    "a=b\n",
    "b=a\n",
    "print(\"Intento 1. Forma incorrecta.\")\n",
    "print(a)\n",
    "print(b)\n",
    "print(\"\")\n",
    "\n",
    "#Cambie b por a. Intento 2. Una forma que funciona.\n",
    "a=5\n",
    "b=10\n",
    "temp=a\n",
    "a=b\n",
    "b=temp\n",
    "print(\"Intento 2. Una forma que funciona.\")\n",
    "print(a)\n",
    "print(b)\n",
    "print(\"\")\n",
    "\n",
    "#Cambie b por a. Intento 3. La forma de Python.\n",
    "a=5\n",
    "b=10\n",
    "a,b = b,a\n",
    "print(\"Intento 3. La forma de Python.\")\n",
    "print(a)\n",
    "print(b)\n",
    "print(\"\")"
   ]
  },
  {
   "cell_type": "code",
   "execution_count": null,
   "metadata": {},
   "outputs": [],
   "source": [
    "cadena=\"Hola Mundo !!!\"\n",
    "\n",
    "print(cadena)\n",
    "print(cadena[2])\n",
    "print(cadena[2:])\n",
    "print(cadena[:2])\n",
    "print(cadena[2:6])\n",
    "print(cadena[-2])\n",
    "\n",
    "print(cadena.lower())\n",
    "print(cadena.upper())\n",
    "print(cadena.capitalize())\n",
    "print(cadena.strip())\n",
    "print(cadena.replace(\"o\", \"+\"))\n",
    "print(cadena.isdigit())\n",
    "\n",
    "print(len(cadena))\n",
    "print(cadena.count())\n",
    "print(\"\")"
   ]
  },
  {
   "cell_type": "code",
   "execution_count": null,
   "metadata": {},
   "outputs": [],
   "source": [
    "mensaje = \"Mundo\"\n",
    "\n",
    "print(\"Hola \" + mensaje + \" !!!\")\n",
    "print(\"Hola {} !!!\".format(mensaje))\n",
    "print(\"Hola {s} !!!\".format(s=mensaje))\n",
    "print(f\"Hola {mensaje} !!!\")\n",
    "\n",
    "numero = 10 / 3\n",
    "print(numero)\n",
    "print(\"Hola {n:1.2f} !!!\".format(n=numero))"
   ]
  },
  {
   "cell_type": "code",
   "execution_count": null,
   "metadata": {},
   "outputs": [],
   "source": [
    "from datetime import datetime\n",
    "\n",
    "#Almacenamos en la variable dt1 la fecha actual del sistema\n",
    "dt1 = datetime.now().date()\n",
    "print(\"Fecha1: \", dt1)\n",
    "\n",
    "#Almacenamos en la variable dt2 la fecha y hora actual del sistema\n",
    "dt2 = datetime.now()\n",
    "print(\"Fecha2: \", dt2)\n",
    "\n",
    "#Convertimos un valor alfanúmerico en fecha utilizando STRPTIME\n",
    "fecha = input(\"Escribe tu fecha de nacimiento: \")\n",
    "dt3 = datetime.strptime(fecha, \"%d-%m-%Y\").date()\n",
    "\n",
    "#Mostramos por pantalla una fecha formateada\n",
    "print(\"Fecha3: \", dt3.strftime(\"%A, %d %B, %Y\"))\n",
    "\n",
    "#Calculos entre fechas\n",
    "años = dt1.year - dt3.year \n",
    "print(f\"Tienes {años} años.\")\n"
   ]
  },
  {
   "cell_type": "code",
   "execution_count": null,
   "metadata": {},
   "outputs": [],
   "source": [
    "from datetime import datetime, timedelta, timezone\n",
    "from pytz import timezone\n",
    "import pytz\n",
    "\n",
    "print(pytz.all_timezones)\n",
    "print(datetime.now(pytz.timezone('Asia/Tokyo')))\n",
    "print(datetime.now(pytz.timezone('Europe/Madrid')))\n",
    "print(datetime.now(pytz.timezone('US/Alaska')))\n",
    "print(datetime.now(pytz.timezone('UTC')))"
   ]
  }
 ]
}